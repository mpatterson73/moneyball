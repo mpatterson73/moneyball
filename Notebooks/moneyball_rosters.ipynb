{
 "cells": [
  {
   "cell_type": "markdown",
   "metadata": {},
   "source": [
    "## Moneyball Rosters\n",
    "\n",
    "Using the 'moneyball_stats' (specifically the 'On Base Percentage' to salary ratio) create\n",
    "a roster for each year that the proper stats were available). \n",
    "\n",
    "#### The Roster\n",
    "\n",
    "A roster shall consist of the following players:\n",
    "* Pitcher\n",
    "* Catcher\n",
    "* First Baseman\n",
    "* Second Baseman\n",
    "* Third Baseman\n",
    "* Shortstop\n",
    "* Left Fielder\n",
    "* Center Fielder\n",
    "* Right Fielder\n",
    "* Designated Hitter\n",
    "\n",
    "*NOTE: pitchers are probably not selected this way. As a matter of fact, pitchers don't even hit in the American League. In the National League, the pitchers actual pitching stats must weigh heavily in the selection process and I did not venture into that for this project. For these reasons I have included a DH along with the 9 defensive postitions.*\n",
    "\n",
    "#### The Rules\n",
    "1. One roster for each year.\n",
    "2. One player per postition.\n",
    "3. Players that play multiple positions in a season, connot occupy multiple spots on a roster.\n",
    "4. A player must have at least 20 appearances at a position to be considered for a roster spot."
   ]
  },
  {
   "cell_type": "code",
   "execution_count": 1,
   "metadata": {},
   "outputs": [],
   "source": [
    "import numpy as np\n",
    "import pandas as pd"
   ]
  },
  {
   "cell_type": "code",
   "execution_count": 2,
   "metadata": {},
   "outputs": [
    {
     "data": {
      "text/html": [
       "<div>\n",
       "<style scoped>\n",
       "    .dataframe tbody tr th:only-of-type {\n",
       "        vertical-align: middle;\n",
       "    }\n",
       "\n",
       "    .dataframe tbody tr th {\n",
       "        vertical-align: top;\n",
       "    }\n",
       "\n",
       "    .dataframe thead th {\n",
       "        text-align: right;\n",
       "    }\n",
       "</style>\n",
       "<table border=\"1\" class=\"dataframe\">\n",
       "  <thead>\n",
       "    <tr style=\"text-align: right;\">\n",
       "      <th></th>\n",
       "      <th>yearID</th>\n",
       "      <th>playerID</th>\n",
       "      <th>G_p</th>\n",
       "      <th>G_c</th>\n",
       "      <th>G_1b</th>\n",
       "      <th>G_2b</th>\n",
       "      <th>G_3b</th>\n",
       "      <th>G_ss</th>\n",
       "      <th>G_lf</th>\n",
       "      <th>G_cf</th>\n",
       "      <th>...</th>\n",
       "      <th>nameGiven</th>\n",
       "      <th>teamID</th>\n",
       "      <th>AB</th>\n",
       "      <th>H</th>\n",
       "      <th>BB</th>\n",
       "      <th>HBP</th>\n",
       "      <th>SF</th>\n",
       "      <th>OBP</th>\n",
       "      <th>salary</th>\n",
       "      <th>OBP_to_salary</th>\n",
       "    </tr>\n",
       "  </thead>\n",
       "  <tbody>\n",
       "    <tr>\n",
       "      <th>0</th>\n",
       "      <td>1985</td>\n",
       "      <td>aguaylu01</td>\n",
       "      <td>0</td>\n",
       "      <td>0</td>\n",
       "      <td>0</td>\n",
       "      <td>17</td>\n",
       "      <td>7</td>\n",
       "      <td>60</td>\n",
       "      <td>0</td>\n",
       "      <td>0</td>\n",
       "      <td>...</td>\n",
       "      <td>Luis</td>\n",
       "      <td>PHI</td>\n",
       "      <td>165</td>\n",
       "      <td>46</td>\n",
       "      <td>22</td>\n",
       "      <td>6.0</td>\n",
       "      <td>3.0</td>\n",
       "      <td>0.377551</td>\n",
       "      <td>237000</td>\n",
       "      <td>0.159304</td>\n",
       "    </tr>\n",
       "    <tr>\n",
       "      <th>1</th>\n",
       "      <td>1985</td>\n",
       "      <td>almonbi01</td>\n",
       "      <td>0</td>\n",
       "      <td>0</td>\n",
       "      <td>7</td>\n",
       "      <td>0</td>\n",
       "      <td>7</td>\n",
       "      <td>43</td>\n",
       "      <td>26</td>\n",
       "      <td>6</td>\n",
       "      <td>...</td>\n",
       "      <td>William Francis</td>\n",
       "      <td>PIT</td>\n",
       "      <td>244</td>\n",
       "      <td>66</td>\n",
       "      <td>22</td>\n",
       "      <td>1.0</td>\n",
       "      <td>3.0</td>\n",
       "      <td>0.329630</td>\n",
       "      <td>255000</td>\n",
       "      <td>0.129267</td>\n",
       "    </tr>\n",
       "    <tr>\n",
       "      <th>2</th>\n",
       "      <td>1985</td>\n",
       "      <td>andujjo01</td>\n",
       "      <td>38</td>\n",
       "      <td>0</td>\n",
       "      <td>0</td>\n",
       "      <td>0</td>\n",
       "      <td>0</td>\n",
       "      <td>0</td>\n",
       "      <td>0</td>\n",
       "      <td>0</td>\n",
       "      <td>...</td>\n",
       "      <td>Joaquin</td>\n",
       "      <td>SLN</td>\n",
       "      <td>94</td>\n",
       "      <td>10</td>\n",
       "      <td>5</td>\n",
       "      <td>0.0</td>\n",
       "      <td>0.0</td>\n",
       "      <td>0.151515</td>\n",
       "      <td>1030000</td>\n",
       "      <td>0.014710</td>\n",
       "    </tr>\n",
       "    <tr>\n",
       "      <th>3</th>\n",
       "      <td>1985</td>\n",
       "      <td>armasto01</td>\n",
       "      <td>0</td>\n",
       "      <td>0</td>\n",
       "      <td>0</td>\n",
       "      <td>0</td>\n",
       "      <td>0</td>\n",
       "      <td>0</td>\n",
       "      <td>16</td>\n",
       "      <td>69</td>\n",
       "      <td>...</td>\n",
       "      <td>Antonio Rafael</td>\n",
       "      <td>BOS</td>\n",
       "      <td>385</td>\n",
       "      <td>102</td>\n",
       "      <td>18</td>\n",
       "      <td>2.0</td>\n",
       "      <td>5.0</td>\n",
       "      <td>0.297561</td>\n",
       "      <td>915000</td>\n",
       "      <td>0.032520</td>\n",
       "    </tr>\n",
       "    <tr>\n",
       "      <th>4</th>\n",
       "      <td>1985</td>\n",
       "      <td>ashbyal01</td>\n",
       "      <td>0</td>\n",
       "      <td>60</td>\n",
       "      <td>0</td>\n",
       "      <td>0</td>\n",
       "      <td>0</td>\n",
       "      <td>0</td>\n",
       "      <td>0</td>\n",
       "      <td>0</td>\n",
       "      <td>...</td>\n",
       "      <td>Alan Dean</td>\n",
       "      <td>HOU</td>\n",
       "      <td>189</td>\n",
       "      <td>53</td>\n",
       "      <td>24</td>\n",
       "      <td>1.0</td>\n",
       "      <td>1.0</td>\n",
       "      <td>0.362791</td>\n",
       "      <td>416667</td>\n",
       "      <td>0.087070</td>\n",
       "    </tr>\n",
       "  </tbody>\n",
       "</table>\n",
       "<p>5 rows × 24 columns</p>\n",
       "</div>"
      ],
      "text/plain": [
       "   yearID   playerID  G_p  G_c  G_1b  G_2b  G_3b  G_ss  G_lf  G_cf  ...  \\\n",
       "0    1985  aguaylu01    0    0     0    17     7    60     0     0  ...   \n",
       "1    1985  almonbi01    0    0     7     0     7    43    26     6  ...   \n",
       "2    1985  andujjo01   38    0     0     0     0     0     0     0  ...   \n",
       "3    1985  armasto01    0    0     0     0     0     0    16    69  ...   \n",
       "4    1985  ashbyal01    0   60     0     0     0     0     0     0  ...   \n",
       "\n",
       "         nameGiven  teamID   AB    H  BB  HBP   SF       OBP   salary  \\\n",
       "0             Luis     PHI  165   46  22  6.0  3.0  0.377551   237000   \n",
       "1  William Francis     PIT  244   66  22  1.0  3.0  0.329630   255000   \n",
       "2          Joaquin     SLN   94   10   5  0.0  0.0  0.151515  1030000   \n",
       "3   Antonio Rafael     BOS  385  102  18  2.0  5.0  0.297561   915000   \n",
       "4        Alan Dean     HOU  189   53  24  1.0  1.0  0.362791   416667   \n",
       "\n",
       "   OBP_to_salary  \n",
       "0       0.159304  \n",
       "1       0.129267  \n",
       "2       0.014710  \n",
       "3       0.032520  \n",
       "4       0.087070  \n",
       "\n",
       "[5 rows x 24 columns]"
      ]
     },
     "execution_count": 2,
     "metadata": {},
     "output_type": "execute_result"
    }
   ],
   "source": [
    "df = pd.read_csv('../MB-Data/moneyball_stats.csv')\n",
    "df.head()"
   ]
  },
  {
   "cell_type": "code",
   "execution_count": 3,
   "metadata": {},
   "outputs": [],
   "source": [
    "pd.set_option('display.max_columns', 30)\n"
   ]
  },
  {
   "cell_type": "code",
   "execution_count": 4,
   "metadata": {},
   "outputs": [
    {
     "data": {
      "text/plain": [
       "(19514, 24)"
      ]
     },
     "execution_count": 4,
     "metadata": {},
     "output_type": "execute_result"
    }
   ],
   "source": [
    "df.shape"
   ]
  },
  {
   "cell_type": "code",
   "execution_count": 5,
   "metadata": {},
   "outputs": [],
   "source": [
    "mb_df = df.copy()"
   ]
  },
  {
   "cell_type": "code",
   "execution_count": 6,
   "metadata": {},
   "outputs": [
    {
     "data": {
      "text/plain": [
       "Index(['yearID', 'playerID', 'G_p', 'G_c', 'G_1b', 'G_2b', 'G_3b', 'G_ss',\n",
       "       'G_lf', 'G_cf', 'G_rf', 'G_dh', 'nameFirst', 'nameLast', 'nameGiven',\n",
       "       'teamID', 'AB', 'H', 'BB', 'HBP', 'SF', 'OBP', 'salary',\n",
       "       'OBP_to_salary'],\n",
       "      dtype='object')"
      ]
     },
     "execution_count": 6,
     "metadata": {},
     "output_type": "execute_result"
    }
   ],
   "source": [
    "mb_df.columns"
   ]
  },
  {
   "cell_type": "code",
   "execution_count": 7,
   "metadata": {},
   "outputs": [],
   "source": [
    "positions = ['G_p', 'G_c', 'G_1b', 'G_2b', 'G_3b', 'G_ss','G_lf', 'G_cf',\n",
    "             'G_rf', 'G_dh']"
   ]
  },
  {
   "cell_type": "code",
   "execution_count": null,
   "metadata": {},
   "outputs": [],
   "source": []
  },
  {
   "cell_type": "code",
   "execution_count": 8,
   "metadata": {},
   "outputs": [],
   "source": [
    "# Create a list for a specific position and year ordered by obp to salary.\n",
    "def top_ten_position(position, year):\n",
    "    df = mb_df.copy()\n",
    "    yr_df = df.loc[(df.yearID == year) & (df[position] >= 20)]\n",
    "    top_ten_df = yr_df.sort_values(by='OBP_to_salary', ascending=False)\n",
    "    # reset the index of the dataframe and keep the original index ifor use later. \n",
    "    return top_ten_df.iloc[:10].reset_index()[['index','playerID']]\n",
    "    "
   ]
  },
  {
   "cell_type": "code",
   "execution_count": 9,
   "metadata": {},
   "outputs": [
    {
     "data": {
      "text/html": [
       "<div>\n",
       "<style scoped>\n",
       "    .dataframe tbody tr th:only-of-type {\n",
       "        vertical-align: middle;\n",
       "    }\n",
       "\n",
       "    .dataframe tbody tr th {\n",
       "        vertical-align: top;\n",
       "    }\n",
       "\n",
       "    .dataframe thead th {\n",
       "        text-align: right;\n",
       "    }\n",
       "</style>\n",
       "<table border=\"1\" class=\"dataframe\">\n",
       "  <thead>\n",
       "    <tr style=\"text-align: right;\">\n",
       "      <th></th>\n",
       "      <th>index</th>\n",
       "      <th>playerID</th>\n",
       "    </tr>\n",
       "  </thead>\n",
       "  <tbody>\n",
       "    <tr>\n",
       "      <th>0</th>\n",
       "      <td>14026</td>\n",
       "      <td>willire03</td>\n",
       "    </tr>\n",
       "    <tr>\n",
       "      <th>1</th>\n",
       "      <td>13518</td>\n",
       "      <td>bucktr01</td>\n",
       "    </tr>\n",
       "    <tr>\n",
       "      <th>2</th>\n",
       "      <td>13747</td>\n",
       "      <td>kempma01</td>\n",
       "    </tr>\n",
       "    <tr>\n",
       "      <th>3</th>\n",
       "      <td>13695</td>\n",
       "      <td>hermije01</td>\n",
       "    </tr>\n",
       "    <tr>\n",
       "      <th>4</th>\n",
       "      <td>13690</td>\n",
       "      <td>hawpebr01</td>\n",
       "    </tr>\n",
       "    <tr>\n",
       "      <th>5</th>\n",
       "      <td>13974</td>\n",
       "      <td>swishni01</td>\n",
       "    </tr>\n",
       "    <tr>\n",
       "      <th>6</th>\n",
       "      <td>13938</td>\n",
       "      <td>schumsk01</td>\n",
       "    </tr>\n",
       "    <tr>\n",
       "      <th>7</th>\n",
       "      <td>13939</td>\n",
       "      <td>scottlu01</td>\n",
       "    </tr>\n",
       "    <tr>\n",
       "      <th>8</th>\n",
       "      <td>13812</td>\n",
       "      <td>markani01</td>\n",
       "    </tr>\n",
       "    <tr>\n",
       "      <th>9</th>\n",
       "      <td>13620</td>\n",
       "      <td>ethiean01</td>\n",
       "    </tr>\n",
       "  </tbody>\n",
       "</table>\n",
       "</div>"
      ],
      "text/plain": [
       "   index   playerID\n",
       "0  14026  willire03\n",
       "1  13518   bucktr01\n",
       "2  13747   kempma01\n",
       "3  13695  hermije01\n",
       "4  13690  hawpebr01\n",
       "5  13974  swishni01\n",
       "6  13938  schumsk01\n",
       "7  13939  scottlu01\n",
       "8  13812  markani01\n",
       "9  13620  ethiean01"
      ]
     },
     "execution_count": 9,
     "metadata": {},
     "output_type": "execute_result"
    }
   ],
   "source": [
    "top_ten_position('G_rf', 2007)"
   ]
  },
  {
   "cell_type": "code",
   "execution_count": 10,
   "metadata": {},
   "outputs": [],
   "source": [
    "def get_indexes(year):\n",
    "\n",
    "    id_df = pd.DataFrame(columns=['index', 'playerID'])\n",
    "    selected = []\n",
    "    for p in positions:\n",
    "        ten_best_df = top_ten_position(p, year)\n",
    "        best_list = ten_best_df['index'].to_list()\n",
    "        available = True\n",
    "        while available:\n",
    "            idx = best_list.pop(0)\n",
    "            if idx not in selected:\n",
    "                selected.append(idx)\n",
    "                available = False\n",
    "            else:\n",
    "                idx = best_list.pop(0)\n",
    "        #print(p, best_player)        \n",
    "    return selected\n"
   ]
  },
  {
   "cell_type": "code",
   "execution_count": 14,
   "metadata": {},
   "outputs": [],
   "source": [
    "def mb_roster_df(year):\n",
    "    '''Return a roster based on OBP/salary ratio for a given year'''\n",
    "    df = mb_df.copy()\n",
    "    index_list = get_indexes(year)\n",
    "    roster_df = df.loc[index_list]\n",
    "    #print('\\nMoneyball Roster for ' + str(year) + ':\\n', roster_df) \n",
    "    return roster_df\n",
    "    "
   ]
  },
  {
   "cell_type": "code",
   "execution_count": 18,
   "metadata": {},
   "outputs": [
    {
     "name": "stdout",
     "output_type": "stream",
     "text": [
      "The 2000 moneyball roster providing the best value is:\n"
     ]
    }
   ],
   "source": [
    "# Enter a year to obtain a roster for that year.\n",
    "# NOTE: Only years 1985-2016 will work. (No salaray data for past 2016)\n",
    "yr = 2000\n",
    "mb = mb_roster_df(yr)[['nameFirst', 'nameLast', 'nameGiven',\n",
    "       'teamID', 'AB', 'H', 'BB', 'HBP', 'SF', 'OBP', 'salary',\n",
    "       'OBP_to_salary']]\n",
    "print(f'The {yr} moneyball roster providing the best value is:')\n",
    "full_position = ['Pitcher', 'Catcher', '1st Base', '2nd Base', '3rd Base', 'Shortstop',\n",
    "                'Left Field', 'Center Field', 'Right FIeld', 'Designated Hitter']\n",
    "#for i, p in enumerate(positions):\n",
    "    \n"
   ]
  },
  {
   "cell_type": "code",
   "execution_count": null,
   "metadata": {},
   "outputs": [],
   "source": []
  },
  {
   "cell_type": "code",
   "execution_count": null,
   "metadata": {},
   "outputs": [],
   "source": []
  }
 ],
 "metadata": {
  "kernelspec": {
   "display_name": "moneyball",
   "language": "python",
   "name": "moneyball"
  },
  "language_info": {
   "codemirror_mode": {
    "name": "ipython",
    "version": 3
   },
   "file_extension": ".py",
   "mimetype": "text/x-python",
   "name": "python",
   "nbconvert_exporter": "python",
   "pygments_lexer": "ipython3",
   "version": "3.8.5"
  }
 },
 "nbformat": 4,
 "nbformat_minor": 4
}
